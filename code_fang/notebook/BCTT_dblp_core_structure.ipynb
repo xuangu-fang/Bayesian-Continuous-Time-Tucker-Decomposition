{
    "cells": [
        {
            "cell_type": "code",
            "execution_count": 1,
            "source": [
                "%matplotlib inline\n",
                "\n",
                "# this version use standard CEP to update U (explicit store and update msg_U) \n",
                "import sys\n",
                "sys.path.append('./..')\n",
                "import numpy as np\n",
                "import torch \n",
                "import matplotlib.pyplot as plt\n",
                "from model_LDS_tucker_full_efficient import LDS_CEP_tucker_full_efficient\n",
                "import os\n",
                "import tqdm\n",
                "os.environ[\"KMP_DUPLICATE_LIB_OK\"]=\"TRUE\"\n",
                "JITTER = 1e-4\n",
                "import utils\n",
                "from sklearn.decomposition import PCA\n",
                "from matplotlib.ticker import NullFormatter\n",
                "torch.manual_seed(2)"
            ],
            "outputs": [
                {
                    "output_type": "execute_result",
                    "data": {
                        "text/plain": [
                            "<torch._C.Generator at 0x7f8223398390>"
                        ]
                    },
                    "metadata": {},
                    "execution_count": 1
                }
            ],
            "metadata": {}
        },
        {
            "cell_type": "code",
            "execution_count": 2,
            "source": [
                "# load data\n",
                "\n",
                "data = np.load('../../data/dblp/dblp_year_1.npy', allow_pickle=True)\n",
                "\n",
                "train_ind = data.item().get('train_ind')\n",
                "train_y = data.item().get('train_y')\n",
                "train_time = data.item().get('train_time_uni') # sorted & unique timestamps\n",
                "train_time_disct = data.item().get('train_time_disct')\n",
                "train_time_ind = data.item().get('train_time_ind')\n",
                "\n",
                "\n",
                "test_ind = data.item().get('test_ind')\n",
                "test_y = data.item().get('test_y')\n",
                "test_time = data.item().get('test_time_uni')\n",
                "test_time_ind = data.item().get('test_time_ind')\n",
                "test_time_disct = data.item().get('test_time_disct')\n",
                "\n",
                "ndims = data.item().get('ndims')\n",
                "\n",
                "nmod = len(ndims)\n",
                "N = train_y.size\n",
                "N_time = train_time.size\n",
                "\n",
                "R_U = 7\n",
                "device = torch.device(\"cpu\")\n",
                "\n",
                "nepoch=40\n",
                "gamma_size = np.prod([R_U for k in range(nmod)])\n",
                "\n",
                "time_data_table = utils.build_time_data_table(train_time_ind)\n",
                "\n",
                "U = [torch.rand(ndim,R_U).double() for ndim in ndims]\n",
                "\n",
                "\n",
                "train_time = torch.tensor(train_time)\n",
                "test_time = torch.tensor(test_time)\n",
                "\n",
                "fix_int = None\n",
                "time_int_list_follow = [train_time[i+1] - train_time[i] for i in range(N_time-1)]\n",
                "time_int_list =torch.tensor([0.0] + time_int_list_follow)\n",
                "\n",
                "train_y = torch.tensor(train_y).reshape(-1,1)\n",
                "test_y = torch.tensor(test_y).reshape(-1,1)\n",
                "\n",
                "\n",
                "# hyper-paras setting for LDS system\n",
                "lengthscale = torch.tensor(0.1)\n",
                "variance = torch.tensor(0.1)\n",
                "noise = torch.tensor(0.1)\n",
                "\n",
                "# matern 32 kernel\n",
                "lamb = np.sqrt(3)/lengthscale\n",
                "F_base = torch.tensor([[0,1.0],\n",
                "                [-lamb*lamb,-2*lamb]])\n",
                "P_inf_base = torch.tensor([[variance,0.0],\n",
                "                    [0,lamb*lamb*variance]])\n",
                "H_base = torch.tensor([[1.0,0]])\n",
                "\n",
                "F_list =[F_base for i in range(gamma_size)]\n",
                "P_inf_list =[P_inf_base for i in range(gamma_size)]\n",
                "H_list = [H_base for i in range(gamma_size)]\n",
                "\n",
                "F = torch.block_diag(*F_list)\n",
                "P_inf = torch.block_diag(*P_inf_list)\n",
                "H = torch.block_diag(*H_list)\n",
                "\n",
                "\n",
                "m_0 = torch.zeros(2*gamma_size,1)\n",
                "P_0 = P_inf\n",
                "\n",
                "# package the hypyerparas\n",
                "\n",
                "hyper_para_dict = {}\n",
                "hyper_para_dict['N'] = N\n",
                "hyper_para_dict['F'] = F\n",
                "hyper_para_dict['H'] = H\n",
                "hyper_para_dict['R'] = noise\n",
                "hyper_para_dict['P_inf'] = P_inf\n",
                "hyper_para_dict['fix_int'] = fix_int # set as None if it's not fix \n",
                "hyper_para_dict['m_0'] = m_0\n",
                "hyper_para_dict['P_0'] = P_0\n",
                "\n",
                "hyper_para_dict['U'] = U\n",
                "hyper_para_dict['device'] = device\n",
                "hyper_para_dict['ind_tr'] = train_ind\n",
                "hyper_para_dict['y_tr'] = train_y\n",
                "\n",
                "hyper_para_dict['test_ind'] = test_ind\n",
                "hyper_para_dict['test_y'] = test_y\n",
                "\n",
                "hyper_para_dict['epoch'] = nepoch\n",
                "hyper_para_dict['R_U'] = R_U\n",
                "hyper_para_dict['v'] = 1\n",
                "hyper_para_dict['a0'] = 10.0\n",
                "hyper_para_dict['b0'] = 1.0\n",
                "hyper_para_dict['time_int_list'] = time_int_list\n",
                "hyper_para_dict['ndims'] = ndims\n",
                "hyper_para_dict['train_time'] = train_time\n",
                "hyper_para_dict['test_time'] = test_time\n",
                "\n",
                "hyper_para_dict['train_time_ind'] = train_time_ind\n",
                "hyper_para_dict['test_time_ind'] = test_time_ind\n",
                "hyper_para_dict['N_time'] = N_time\n",
                "hyper_para_dict['time_data_table'] = time_data_table\n",
                "hyper_para_dict['gamma_size'] = gamma_size\n",
                "\n",
                "hyper_para_dict['DAMPPING_U'] = 0.6\n",
                "hyper_para_dict['DAMPPING_gamma'] = 0.8"
            ],
            "outputs": [],
            "metadata": {}
        },
        {
            "cell_type": "code",
            "execution_count": 3,
            "source": [
                "model_class = LDS_CEP_tucker_full_efficient\n",
                "model = model_class(hyper_para_dict)\n",
                "\n",
                "expand_odrer = 'two'\n",
                "# expand_odrer = 'one'\n",
                "\n",
                "\n",
                "\n",
                "for i in tqdm.tqdm(range(40)):\n",
                "    # for i in range(args.epoch):\n",
                "    \n",
                "    # LDS\n",
                "    model.reset_list()\n",
                "            \n",
                "    # for k in tqdm.tqdm(range(model.N_time)):\n",
                "    for k in range(model.N_time):\n",
                "\n",
                "        model.msg_update_tau(time_id=k)\n",
                "        model.filter_predict(ind=k)\n",
                "\n",
                "        if expand_odrer == 'two':\n",
                "            # two-order expand of conditional moment\n",
                "            msg_gamma_m,msg_gamma_v = model.msg_update_gamma(time_id=k)\n",
                "            model.filter_update_general(y= msg_gamma_m,R = msg_gamma_v )\n",
                "\n",
                "        else:\n",
                "            # one-order expand of conditional moment\n",
                "            data_id = model.time_data_table[k]\n",
                "            if len(data_id)>1:\n",
                "                # more that one data-llk \n",
                "                R = torch.diag((model.msg_b[data_id]/model.msg_a[data_id]).squeeze())\n",
                "                z = model.E_z[data_id].squeeze(-1).T\n",
                "            else:\n",
                "                data_id = data_id[0]\n",
                "                R = model.msg_b[data_id]/model.msg_a[data_id]\n",
                "                z = model.E_z[data_id]\n",
                "            # print(z.shape)\n",
                "            model.filter_update_simple(y= model.y_tr[data_id], R= R,z = z)\n",
                "\n",
                "    model.smooth()\n",
                "    del model.P_pred_list\n",
                "    del model.P_list\n",
                "    model.post_update_gamma()\n",
                "\n",
                "    # tau\n",
                "    model.post_update_tau()\n",
                "    model.expectation_update_tau()\n",
                "    # CEP \n",
                "    # U\n",
                "    model.msg_update_U()\n",
                "    model.post_update_U() \n",
                "    # model.expectation_update_z()\n",
                "\n",
                "    if i % 2 == 0:\n",
                "        loss_test_rmse,loss_test_MAE = model.model_test(hyper_para_dict['test_ind'],hyper_para_dict['test_y'],hyper_para_dict['test_time'])\n",
                "        print('loss_test_rmse: %.4f,loss_test_MAE: %.4f'%(loss_test_rmse,loss_test_MAE) )\n"
            ],
            "outputs": [
                {
                    "output_type": "stream",
                    "name": "stderr",
                    "text": [
                        "  0%|          | 0/40 [00:00<?, ?it/s]/home/zenus/anaconda3/envs/pytorch_1.10.1/lib/python3.9/site-packages/tensorly/backend/pytorch_backend.py:31: UserWarning: To copy construct from a tensor, it is recommended to use sourceTensor.clone().detach() or sourceTensor.clone().detach().requires_grad_(True), rather than torch.tensor(sourceTensor).\n",
                        "  return torch.tensor(data, dtype=dtype, device=device,\n",
                        "/home/zenus/fang/SDE_GP_tensor/code_fang/notebook/./../model_LDS_tucker_full_efficient.py:198: FutureWarning: Using a non-tuple sequence for multidimensional indexing is deprecated; use `arr[tuple(seq)]` instead of `arr[seq]`. In the future this will be interpreted as an array index, `arr[np.array(seq)]`, which will result either in an error or a different result.\n",
                        "  tid = self.train_time_ind[eid] # id time states of such entries\n",
                        "/home/zenus/fang/SDE_GP_tensor/code_fang/notebook/./../model_LDS_tucker_full_efficient.py:201: FutureWarning: Using a non-tuple sequence for multidimensional indexing is deprecated; use `arr[tuple(seq)]` instead of `arr[seq]`. In the future this will be interpreted as an array index, `arr[np.array(seq)]`, which will result either in an error or a different result.\n",
                        "  E_z_del, E_z_del_2 = self.moment_kronecker_tucker(other_modes,self.ind_tr[eid],order='second')\n",
                        "  2%|▎         | 1/40 [00:17<11:37, 17.88s/it]"
                    ]
                },
                {
                    "output_type": "stream",
                    "name": "stdout",
                    "text": [
                        "loss_test_rmse: 0.8674,loss_test_MAE: 0.8361\n"
                    ]
                },
                {
                    "output_type": "stream",
                    "name": "stderr",
                    "text": [
                        "  8%|▊         | 3/40 [00:52<10:40, 17.31s/it]"
                    ]
                },
                {
                    "output_type": "stream",
                    "name": "stdout",
                    "text": [
                        "loss_test_rmse: 0.3525,loss_test_MAE: 0.2370\n"
                    ]
                },
                {
                    "output_type": "stream",
                    "name": "stderr",
                    "text": [
                        " 12%|█▎        | 5/40 [01:25<09:54, 16.99s/it]"
                    ]
                },
                {
                    "output_type": "stream",
                    "name": "stdout",
                    "text": [
                        "loss_test_rmse: 0.2118,loss_test_MAE: 0.0958\n"
                    ]
                },
                {
                    "output_type": "stream",
                    "name": "stderr",
                    "text": [
                        " 12%|█▎        | 5/40 [01:28<10:21, 17.76s/it]\n"
                    ]
                },
                {
                    "output_type": "error",
                    "ename": "KeyboardInterrupt",
                    "evalue": "",
                    "traceback": [
                        "\u001b[0;31m---------------------------------------------------------------------------\u001b[0m",
                        "\u001b[0;31mKeyboardInterrupt\u001b[0m                         Traceback (most recent call last)",
                        "Input \u001b[0;32mIn [3]\u001b[0m, in \u001b[0;36m<cell line: 9>\u001b[0;34m()\u001b[0m\n\u001b[1;32m     19\u001b[0m model\u001b[38;5;241m.\u001b[39mfilter_predict(ind\u001b[38;5;241m=\u001b[39mk)\n\u001b[1;32m     21\u001b[0m \u001b[38;5;28;01mif\u001b[39;00m expand_odrer \u001b[38;5;241m==\u001b[39m \u001b[38;5;124m'\u001b[39m\u001b[38;5;124mtwo\u001b[39m\u001b[38;5;124m'\u001b[39m:\n\u001b[1;32m     22\u001b[0m     \u001b[38;5;66;03m# two-order expand of conditional moment\u001b[39;00m\n\u001b[0;32m---> 23\u001b[0m     msg_gamma_m,msg_gamma_v \u001b[38;5;241m=\u001b[39m \u001b[43mmodel\u001b[49m\u001b[38;5;241;43m.\u001b[39;49m\u001b[43mmsg_update_gamma\u001b[49m\u001b[43m(\u001b[49m\u001b[43mtime_id\u001b[49m\u001b[38;5;241;43m=\u001b[39;49m\u001b[43mk\u001b[49m\u001b[43m)\u001b[49m\n\u001b[1;32m     24\u001b[0m     model\u001b[38;5;241m.\u001b[39mfilter_update_general(y\u001b[38;5;241m=\u001b[39m msg_gamma_m,R \u001b[38;5;241m=\u001b[39m msg_gamma_v )\n\u001b[1;32m     26\u001b[0m \u001b[38;5;28;01melse\u001b[39;00m:\n\u001b[1;32m     27\u001b[0m     \u001b[38;5;66;03m# one-order expand of conditional moment\u001b[39;00m\n",
                        "File \u001b[0;32m~/fang/SDE_GP_tensor/code_fang/notebook/./../model_LDS_tucker_full_efficient.py:239\u001b[0m, in \u001b[0;36mLDS_CEP_tucker_full_efficient.msg_update_gamma\u001b[0;34m(self, time_id)\u001b[0m\n\u001b[1;32m    236\u001b[0m E_z, E_z_2 \u001b[38;5;241m=\u001b[39m \u001b[38;5;28mself\u001b[39m\u001b[38;5;241m.\u001b[39mmoment_kronecker_tucker(all_modes,\u001b[38;5;28mself\u001b[39m\u001b[38;5;241m.\u001b[39mind_tr[data_id],order\u001b[38;5;241m=\u001b[39m\u001b[38;5;124m'\u001b[39m\u001b[38;5;124msecond\u001b[39m\u001b[38;5;124m'\u001b[39m)\n\u001b[1;32m    238\u001b[0m \u001b[38;5;66;03m# no damping\u001b[39;00m\n\u001b[0;32m--> 239\u001b[0m msg_gamma_v \u001b[38;5;241m=\u001b[39m torch\u001b[38;5;241m.\u001b[39mlinalg\u001b[38;5;241m.\u001b[39minv(\u001b[43m(\u001b[49m\u001b[38;5;28;43mself\u001b[39;49m\u001b[38;5;241;43m.\u001b[39;49m\u001b[43mE_tau\u001b[49m\u001b[38;5;241;43m*\u001b[39;49m\u001b[43mE_z_2\u001b[49m\u001b[43m)\u001b[49m\u001b[38;5;241;43m.\u001b[39;49m\u001b[43msum\u001b[49m\u001b[43m(\u001b[49m\u001b[43mdim\u001b[49m\u001b[38;5;241;43m=\u001b[39;49m\u001b[38;5;241;43m0\u001b[39;49m\u001b[43m)\u001b[49m)  \n\u001b[1;32m    240\u001b[0m msg_gamma_m \u001b[38;5;241m=\u001b[39m torch\u001b[38;5;241m.\u001b[39mmm(msg_gamma_v,(\u001b[38;5;28mself\u001b[39m\u001b[38;5;241m.\u001b[39mE_tau\u001b[38;5;241m*\u001b[39mtorch\u001b[38;5;241m.\u001b[39mbmm(E_z,\u001b[38;5;28mself\u001b[39m\u001b[38;5;241m.\u001b[39my_tr[data_id]\u001b[38;5;241m.\u001b[39munsqueeze(\u001b[38;5;241m-\u001b[39m\u001b[38;5;241m1\u001b[39m)))\u001b[38;5;241m.\u001b[39msum(dim\u001b[38;5;241m=\u001b[39m\u001b[38;5;241m0\u001b[39m))\n\u001b[1;32m    242\u001b[0m \u001b[38;5;28;01mreturn\u001b[39;00m msg_gamma_m, msg_gamma_v\n",
                        "\u001b[0;31mKeyboardInterrupt\u001b[0m: "
                    ]
                }
            ],
            "metadata": {}
        },
        {
            "cell_type": "code",
            "execution_count": 79,
            "source": [
                "# gamma = model.post_gamma_m.squeeze().cpu().numpy()\n",
                "# np.save('BCTT_dblp_post_W_r7', gamma)\n",
                "gamma_raw = np.load('BCTT_dblp_post_W_r7.npy')"
            ],
            "outputs": [],
            "metadata": {}
        },
        {
            "cell_type": "code",
            "execution_count": 80,
            "source": [
                "from sklearn.preprocessing import StandardScaler\n",
                "import tensorly as tl\n",
                "gamma = StandardScaler().fit_transform(gamma_raw)\n",
                "\n",
                "t1=1\n",
                "t2=6\n",
                "t3=7\n",
                "\n",
                "gamma1 = tl.tensor(gamma[t1,:].reshape(R_U,R_U,R_U))\n",
                "gamma2 = tl.tensor(gamma[t2,:].reshape(R_U,R_U,R_U))\n",
                "gamma3 = tl.tensor(gamma[t3,:].reshape(R_U,R_U,R_U))\n",
                "\n",
                "# fold at dim1 \n",
                "mode =2\n",
                "gamma1_fold = tl.unfold(gamma1,mode).T.numpy()\n",
                "gamma2_fold = tl.unfold(gamma2,mode).T.numpy()\n",
                "gamma3_fold= tl.unfold(gamma3,mode).T.numpy()\n",
                "\n",
                "\n",
                "\n",
                "pca = PCA(n_components=2)\n",
                "X_1 = pca.fit(gamma1_fold).transform(gamma1_fold)\n",
                "X_2 = pca.fit(gamma2_fold).transform(gamma2_fold)\n",
                "X_3 = pca.fit(gamma3_fold).transform(gamma3_fold)"
            ],
            "outputs": [],
            "metadata": {}
        },
        {
            "cell_type": "code",
            "execution_count": 159,
            "source": [
                "plt.scatter(X_1[:,0],X_1[:,1],c='c',s=105,alpha=0.7)\n",
                "# plt.scatter(X_2[:,0],X_2[:,1],c='r')\n",
                "# plt.scatter(X_3[:,0],X_3[:,1],c='b')\n",
                "ax = plt.gca()\n",
                "ax.set_xlim([-0.6, 0.6])\n",
                "ax.set_ylim([-0.02, 0.02])\n",
                "ax.axes.get_yaxis().set_visible(False)\n",
                "ax.xaxis.set_major_formatter(NullFormatter())\n",
                "ax.yaxis.set_major_formatter(NullFormatter())\n",
                "plt.savefig('core_pca_t1.pdf')\n"
            ],
            "outputs": [
                {
                    "output_type": "display_data",
                    "data": {
                        "text/plain": [
                            "<Figure size 432x288 with 1 Axes>"
                        ],
                        "image/png": "[encoded data removed]"
                    },
                    "metadata": {
                        "needs_background": "light"
                    }
                }
            ],
            "metadata": {}
        },
        {
            "cell_type": "code",
            "execution_count": 160,
            "source": [
                "plt.scatter(X_2[:,0],X_2[:,1],c='tomato',s=105,alpha=0.7)\n",
                "ax = plt.gca()\n",
                "ax.set_xlim([-0.6, 0.6])\n",
                "ax.set_ylim([-0.02, 0.02])\n",
                "ax.axes.get_yaxis().set_visible(False)\n",
                "ax.xaxis.set_major_formatter(NullFormatter())\n",
                "ax.yaxis.set_major_formatter(NullFormatter())\n",
                "plt.savefig('core_pca_t2.pdf')"
            ],
            "outputs": [
                {
                    "output_type": "display_data",
                    "data": {
                        "text/plain": [
                            "<Figure size 432x288 with 1 Axes>"
                        ],
                        "image/png": "[encoded data removed]"
                    },
                    "metadata": {
                        "needs_background": "light"
                    }
                }
            ],
            "metadata": {}
        },
        {
            "cell_type": "code",
            "execution_count": 117,
            "source": [
                "plt.scatter(X_3[:,0],X_3[:,1],c='b',s=75,alpha=0.7)\n",
                "ax = plt.gca()\n",
                "ax.set_xlim([-0.6, 0.6])\n",
                "ax.set_ylim([-0.02, 0.02])\n",
                "ax.axes.get_yaxis().set_visible(False)\n",
                "ax.xaxis.set_major_formatter(NullFormatter())\n",
                "ax.yaxis.set_major_formatter(NullFormatter())\n",
                "plt.savefig('core_pca_t3.pdf')"
            ],
            "outputs": [
                {
                    "output_type": "display_data",
                    "data": {
                        "text/plain": [
                            "<Figure size 432x288 with 1 Axes>"
                        ],
                        "image/png": "[encoded data removed]"
                    },
                    "metadata": {
                        "needs_background": "light"
                    }
                }
            ],
            "metadata": {}
        },
        {
            "cell_type": "code",
            "execution_count": 127,
            "source": [
                "from sklearn.cluster import KMeans\n",
                "\n",
                "kmeans = KMeans(init=\"k-means++\", n_clusters=4, n_init=4)\n",
                "kmeans.fit(X_3.astype('double'))\n",
                "\n",
                "x_min, x_max = -0.6, 0.6\n",
                "y_min, y_max = -0.02, 0.02\n",
                "\n",
                "xx, yy = np.meshgrid(np.arange(x_min, x_max, 0.02), np.arange(y_min, y_max,0.002))\n",
                "# Obtain labels for each point in mesh. Use last trained model.\n",
                "Z = kmeans.predict(np.c_[xx.ravel(), yy.ravel()])"
            ],
            "outputs": [],
            "metadata": {}
        },
        {
            "cell_type": "code",
            "execution_count": 141,
            "source": [
                "X_id = kmeans.predict(X_3.astype('double'))\n"
            ],
            "outputs": [],
            "metadata": {}
        },
        {
            "cell_type": "code",
            "execution_count": 166,
            "source": [
                "Z = Z.reshape(xx.shape)\n",
                "plt.figure(1)\n",
                "plt.clf()\n",
                "plt. imshow(\n",
                "    Z,\n",
                "    interpolation=\"antialiased\",\n",
                "    extent=(xx.min(), xx.max(), yy.min(), yy.max()),\n",
                "    cmap=plt.cm.Paired,\n",
                "    aspect=\"auto\",\n",
                "    origin=\"lower\",\n",
                ")\n",
                "\n",
                "X_group1 = X_3[np.where(X_id==0)]\n",
                "X_group2 = X_3[np.where(X_id==1)]\n",
                "X_group3 = X_3[np.where(X_id==2)]\n",
                "X_group4 = X_3[np.where(X_id==3)]\n",
                "\n",
                "plt.scatter(X_group1[:,0],X_group1[:,1],c='b',s=105,alpha=0.7)\n",
                "plt.scatter(X_group2[:,0],X_group2[:,1],c='r',s=105,alpha=0.7)\n",
                "plt.scatter(X_group3[:,0],X_group3[:,1],c='m',s=105,alpha=0.7)\n",
                "plt.scatter(X_group4[:,0],X_group4[:,1],c='darkorange',s=75,alpha=0.7)\n",
                "\n",
                "\n",
                "\n",
                "centroids = kmeans.cluster_centers_\n",
                "plt.scatter(\n",
                "    centroids[:, 0],\n",
                "    centroids[:, 1],\n",
                "    marker=\"x\",\n",
                "    s=169,\n",
                "    linewidths=3,\n",
                "    color=\"w\",\n",
                "    zorder=5,\n",
                ")\n",
                "\n",
                "ax = plt.gca()\n",
                "ax.axes.get_yaxis().set_visible(False)\n",
                "ax.xaxis.set_major_formatter(NullFormatter())\n",
                "ax.yaxis.set_major_formatter(NullFormatter())\n",
                "plt.savefig('core_pca_t3.pdf')"
            ],
            "outputs": [
                {
                    "output_type": "display_data",
                    "data": {
                        "text/plain": [
                            "<Figure size 432x288 with 1 Axes>"
                        ],
                        "image/png": "[encoded data removed]"
                    },
                    "metadata": {
                        "needs_background": "light"
                    }
                }
            ],
            "metadata": {}
        }
    ],
    "metadata": {
        "interpreter": {
            "hash": "c2b9b245c32fdd00062c065bea1c6c406b1fa841caa084ac758573a37ef3ce19"
        },
        "kernelspec": {
            "name": "python3",
            "display_name": "Python 3.9.7 64-bit ('pytorch_1.10.1': conda)"
        },
        "language_info": {
            "codemirror_mode": {
                "name": "ipython",
                "version": 3
            },
            "file_extension": ".py",
            "mimetype": "text/x-python",
            "name": "python",
            "nbconvert_exporter": "python",
            "pygments_lexer": "ipython3",
            "version": "3.9.7"
        },
        "orig_nbformat": 4
    },
    "nbformat": 4,
    "nbformat_minor": 2
}